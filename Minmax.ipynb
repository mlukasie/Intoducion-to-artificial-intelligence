{
  "cells": [
    {
      "cell_type": "code",
      "source": [
        "from google.colab import drive\n",
        "from random import randint\n",
        "drive.mount('/content/drive')\n",
        "\n",
        "import sys\n",
        "sys.path.append('/content/drive/MyDrive/Colab Notebooks')\n",
        "\n",
        "from typing import Tuple, List\n",
        "\n",
        "from two_player_games.games.connect_four import ConnectFour, ConnectFourMove\n",
        "from two_player_games.player import Player\n",
        "from two_player_games.state import State\n",
        "import gc\n",
        "import time\n",
        "from matplotlib import pyplot as plt"
      ],
      "outputs": [
        {
          "output_type": "stream",
          "name": "stdout",
          "text": "Drive already mounted at /content/drive; to attempt to forcibly remount, call drive.mount(\"/content/drive\", force_remount=True).\n"
        }
      ],
      "execution_count": null,
      "metadata": {
        "colab": {
          "base_uri": "https://localhost:8080/"
        },
        "id": "Ga6ZXrMXiLhL",
        "outputId": "0e71294a-0dff-4040-828c-818389da7caa"
      }
    },
    {
      "cell_type": "code",
      "source": [
        "ROW_COUNT = 6\n",
        "COLUMN_COUNT = 7"
      ],
      "outputs": [],
      "execution_count": null,
      "metadata": {
        "id": "ct4i3GKQJJnB"
      }
    },
    {
      "cell_type": "code",
      "source": [
        "class MinMaxSolver:\n",
        "    def __init__(self, game: ConnectFour):\n",
        "        self.game = game\n",
        "        self.max_player = self.game.first_player\n",
        "        self.min_player = self.game.second_player\n",
        "\n",
        "    def swap_players(self):\n",
        "        self.max_player, self.min_player = self.min_player, self.max_player\n",
        "\n",
        "    def evaluate_position(self)->float:\n",
        "        fields = self.game.state.fields\n",
        "        score = 0\n",
        "\n",
        "        for column in range(len(fields)): # Check every column\n",
        "            for row in range(len(fields[column]) - 3):\n",
        "                fragment = fields[column][row:row+4]\n",
        "                score += self.evaluate_fragment(fragment)\n",
        "\n",
        "        for column in range(len(fields) - 3): # Check every row\n",
        "            for row in range(len(fields[column])):\n",
        "                fragment = [fields[column+i][row] for i in range(4)]\n",
        "                score += self.evaluate_fragment(fragment)\n",
        "\n",
        "        for column in range(len(fields) - 3): # Check every left-down to right-up diagonal\n",
        "            for row in range(len(fields[column]) - 3):\n",
        "                fragment = [fields[column+i][row+i] for i in range(4)]\n",
        "                score += self.evaluate_fragment(fragment)\n",
        "\n",
        "        for column in range(len(fields) - 3): # Check every left_up to right-down diagonal\n",
        "            for row in range(3, len(fields[column])):\n",
        "                fragment = [fields[column+i][row-i] for i in range(4)]\n",
        "                score += self.evaluate_fragment(fragment)\n",
        "\n",
        "        return score\n",
        "\n",
        "    def get_best_move(self, depth:int)->int:\n",
        "        return self.minimax(depth, alpha=float('-inf'), beta=float('inf'), is_maximizing_player=True)[0]\n",
        "\n",
        "    def get_best_move_no_pruning(self, depth:int)->int:\n",
        "        return self.minimax_no_pruning(depth, alpha=float('-inf'), beta=float('inf'), is_maximizing_player=True)[0]\n",
        "\n",
        "    def is_valid_move(self, col_index:int)->bool:\n",
        "        possible_moves = game.get_moves()\n",
        "        possible_indexes = [possible_moves[i].column for i in range(len(possible_moves))]\n",
        "        return col_index in possible_indexes\n",
        "\n",
        "    def minimax(self, depth, alpha:float, beta:float, is_maximizing_player:bool)-> Tuple[int, float]:\n",
        "        \"\"\"Returns column index and score\"\"\"\n",
        "        if depth == 0 or game.is_finished():\n",
        "            return -1, self.evaluate_position()\n",
        "        best_move = -1\n",
        "\n",
        "        if is_maximizing_player:\n",
        "            for move in game.get_moves():\n",
        "                old_state = self.game.state\n",
        "                self.game.make_move(move)\n",
        "                eval = self.minimax(depth-1, alpha, beta, False)[1]\n",
        "                self.game.state = old_state\n",
        "                if eval > alpha:\n",
        "                    alpha = eval\n",
        "                    best_move = move.column\n",
        "                if beta <= alpha:\n",
        "                    break\n",
        "            return best_move, alpha\n",
        "        else:\n",
        "            for move in game.get_moves():\n",
        "                old_state = self.game.state\n",
        "                self.game.make_move(move)\n",
        "                eval = self.minimax(depth-1, alpha, beta, True)[1]\n",
        "                self.game.state = old_state\n",
        "                if eval < beta:\n",
        "                    beta = eval\n",
        "                    best_move = move.column\n",
        "                if beta <= alpha:\n",
        "                    break\n",
        "            return best_move, beta\n",
        "\n",
        "    def minimax_no_pruning(self, depth, alpha:float, beta:float, is_maximizing_player:bool)-> Tuple[int, float]:\n",
        "        \"\"\"Returns column index and score\"\"\"\n",
        "        if depth == 0 or game.is_finished():\n",
        "            return -1, self.evaluate_position()\n",
        "        best_move = -1\n",
        "\n",
        "        if is_maximizing_player:\n",
        "            for move in game.get_moves():\n",
        "                old_state = self.game.state\n",
        "                self.game.make_move(move)\n",
        "                eval = self.minimax(depth-1, alpha, beta, False)[1]\n",
        "                self.game.state = old_state\n",
        "                if eval > alpha:\n",
        "                    alpha = eval\n",
        "                    best_move = move.column\n",
        "            return best_move, alpha\n",
        "        else:\n",
        "            for move in game.get_moves():\n",
        "                old_state = self.game.state\n",
        "                self.game.make_move(move)\n",
        "                eval = self.minimax(depth-1, alpha, beta, True)[1]\n",
        "                self.game.state = old_state\n",
        "                if eval < beta:\n",
        "                    beta = eval\n",
        "                    best_move = move.column\n",
        "            return best_move, beta\n",
        "\n",
        "    def evaluate_fragment(self, fragment: Tuple[int])->float:\n",
        "        score = 0\n",
        "\n",
        "        if fragment.count(self.max_player) == 4:\n",
        "            score += 1000000\n",
        "        elif fragment.count(self.max_player) == 3 and fragment.count(None) == 1:\n",
        "            score += 1000\n",
        "        elif fragment.count(self.max_player) == 2 and fragment.count(None) == 2:\n",
        "            score += 1\n",
        "\n",
        "        if fragment.count(self.min_player) == 4:\n",
        "                score -= 1000000\n",
        "        elif fragment.count(self.min_player) == 3 and fragment.count(None) == 1:\n",
        "                score -= 1000\n",
        "        elif fragment.count(self.min_player) == 2 and fragment.count(None) == 2:\n",
        "            score -= 1\n",
        "\n",
        "        return score"
      ],
      "outputs": [],
      "execution_count": null,
      "metadata": {
        "id": "Iq00XRTiJA5v"
      }
    },
    {
      "cell_type": "code",
      "source": [
        "p1 = Player(\"a\")\n",
        "p2 = Player(\"b\")\n",
        "\n",
        "for depth in range(1, 8):\n",
        "  game = ConnectFour(size=(COLUMN_COUNT, ROW_COUNT), first_player=p1, second_player=p2)\n",
        "  solver = MinMaxSolver(game)\n",
        "  print(\"Depth: \", depth)\n",
        "  while not game.is_finished():\n",
        "      game.make_move(ConnectFourMove(solver.get_best_move(depth)))\n",
        "      solver.swap_players()\n",
        "      print(game, '\\n')\n",
        "  print(\"Winner\", game.get_winner().char) if game.get_winner() else print(\"Draw\")\n",
        "  print(60*'=', '\\n')"
      ],
      "outputs": [
        {
          "output_type": "stream",
          "name": "stdout",
          "text": "Depth:  1\nCurrent player: b\n[ ][ ][ ][ ][ ][ ][ ]\n[ ][ ][ ][ ][ ][ ][ ]\n[ ][ ][ ][ ][ ][ ][ ]\n[ ][ ][ ][ ][ ][ ][ ]\n[ ][ ][ ][ ][ ][ ][ ]\n[a][ ][ ][ ][ ][ ][ ] \n\nCurrent player: a\n[ ][ ][ ][ ][ ][ ][ ]\n[ ][ ][ ][ ][ ][ ][ ]\n[ ][ ][ ][ ][ ][ ][ ]\n[ ][ ][ ][ ][ ][ ][ ]\n[b][ ][ ][ ][ ][ ][ ]\n[a][ ][ ][ ][ ][ ][ ] \n\nCurrent player: b\n[ ][ ][ ][ ][ ][ ][ ]\n[ ][ ][ ][ ][ ][ ][ ]\n[ ][ ][ ][ ][ ][ ][ ]\n[ ][ ][ ][ ][ ][ ][ ]\n[b][ ][ ][ ][ ][ ][ ]\n[a][a][ ][ ][ ][ ][ ] \n\nCurrent player: a\n[ ][ ][ ][ ][ ][ ][ ]\n[ ][ ][ ][ ][ ][ ][ ]\n[ ][ ][ ][ ][ ][ ][ ]\n[b][ ][ ][ ][ ][ ][ ]\n[b][ ][ ][ ][ ][ ][ ]\n[a][a][ ][ ][ ][ ][ ] \n\nCurrent player: b\n[ ][ ][ ][ ][ ][ ][ ]\n[ ][ ][ ][ ][ ][ ][ ]\n[ ][ ][ ][ ][ ][ ][ ]\n[b][ ][ ][ ][ ][ ][ ]\n[b][ ][ ][ ][ ][ ][ ]\n[a][a][a][ ][ ][ ][ ] \n\nCurrent player: a\n[ ][ ][ ][ ][ ][ ][ ]\n[ ][ ][ ][ ][ ][ ][ ]\n[ ][ ][ ][ ][ ][ ][ ]\n[b][ ][ ][ ][ ][ ][ ]\n[b][ ][ ][ ][ ][ ][ ]\n[a][a][a][b][ ][ ][ ] \n\nCurrent player: b\n[ ][ ][ ][ ][ ][ ][ ]\n[ ][ ][ ][ ][ ][ ][ ]\n[ ][ ][ ][ ][ ][ ][ ]\n[b][ ][ ][ ][ ][ ][ ]\n[b][a][ ][ ][ ][ ][ ]\n[a][a][a][b][ ][ ][ ] \n\nCurrent player: a\n[ ][ ][ ][ ][ ][ ][ ]\n[ ][ ][ ][ ][ ][ ][ ]\n[b][ ][ ][ ][ ][ ][ ]\n[b][ ][ ][ ][ ][ ][ ]\n[b][a][ ][ ][ ][ ][ ]\n[a][a][a][b][ ][ ][ ] \n\nCurrent player: b\n[ ][ ][ ][ ][ ][ ][ ]\n[a][ ][ ][ ][ ][ ][ ]\n[b][ ][ ][ ][ ][ ][ ]\n[b][ ][ ][ ][ ][ ][ ]\n[b][a][ ][ ][ ][ ][ ]\n[a][a][a][b][ ][ ][ ] \n\nCurrent player: a\n[ ][ ][ ][ ][ ][ ][ ]\n[a][ ][ ][ ][ ][ ][ ]\n[b][ ][ ][ ][ ][ ][ ]\n[b][b][ ][ ][ ][ ][ ]\n[b][a][ ][ ][ ][ ][ ]\n[a][a][a][b][ ][ ][ ] \n\nCurrent player: b\n[ ][ ][ ][ ][ ][ ][ ]\n[a][ ][ ][ ][ ][ ][ ]\n[b][ ][ ][ ][ ][ ][ ]\n[b][b][ ][ ][ ][ ][ ]\n[b][a][a][ ][ ][ ][ ]\n[a][a][a][b][ ][ ][ ] \n\nCurrent player: a\n[ ][ ][ ][ ][ ][ ][ ]\n[a][ ][ ][ ][ ][ ][ ]\n[b][ ][ ][ ][ ][ ][ ]\n[b][b][b][ ][ ][ ][ ]\n[b][a][a][ ][ ][ ][ ]\n[a][a][a][b][ ][ ][ ] \n\nCurrent player: b\n[ ][ ][ ][ ][ ][ ][ ]\n[a][ ][ ][ ][ ][ ][ ]\n[b][ ][ ][ ][ ][ ][ ]\n[b][b][b][ ][ ][ ][ ]\n[b][a][a][a][ ][ ][ ]\n[a][a][a][b][ ][ ][ ] \n\nCurrent player: a\n[ ][ ][ ][ ][ ][ ][ ]\n[a][ ][ ][ ][ ][ ][ ]\n[b][ ][ ][ ][ ][ ][ ]\n[b][b][b][b][ ][ ][ ]\n[b][a][a][a][ ][ ][ ]\n[a][a][a][b][ ][ ][ ] \n\nWinner b\n============================================================ \n\nDepth:  2\nCurrent player: b\n[ ][ ][ ][ ][ ][ ][ ]\n[ ][ ][ ][ ][ ][ ][ ]\n[ ][ ][ ][ ][ ][ ][ ]\n[ ][ ][ ][ ][ ][ ][ ]\n[ ][ ][ ][ ][ ][ ][ ]\n[a][ ][ ][ ][ ][ ][ ] \n\nCurrent player: a\n[ ][ ][ ][ ][ ][ ][ ]\n[ ][ ][ ][ ][ ][ ][ ]\n[ ][ ][ ][ ][ ][ ][ ]\n[ ][ ][ ][ ][ ][ ][ ]\n[b][ ][ ][ ][ ][ ][ ]\n[a][ ][ ][ ][ ][ ][ ] \n\nCurrent player: b\n[ ][ ][ ][ ][ ][ ][ ]\n[ ][ ][ ][ ][ ][ ][ ]\n[ ][ ][ ][ ][ ][ ][ ]\n[a][ ][ ][ ][ ][ ][ ]\n[b][ ][ ][ ][ ][ ][ ]\n[a][ ][ ][ ][ ][ ][ ] \n\nCurrent player: a\n[ ][ ][ ][ ][ ][ ][ ]\n[ ][ ][ ][ ][ ][ ][ ]\n[b][ ][ ][ ][ ][ ][ ]\n[a][ ][ ][ ][ ][ ][ ]\n[b][ ][ ][ ][ ][ ][ ]\n[a][ ][ ][ ][ ][ ][ ] \n\nCurrent player: b\n[ ][ ][ ][ ][ ][ ][ ]\n[ ][ ][ ][ ][ ][ ][ ]\n[b][ ][ ][ ][ ][ ][ ]\n[a][ ][ ][ ][ ][ ][ ]\n[b][ ][ ][ ][ ][ ][ ]\n[a][ ][ ][a][ ][ ][ ] \n\nCurrent player: a\n[ ][ ][ ][ ][ ][ ][ ]\n[ ][ ][ ][ ][ ][ ][ ]\n[b][ ][ ][ ][ ][ ][ ]\n[a][ ][ ][ ][ ][ ][ ]\n[b][ ][ ][ ][ ][ ][ ]\n[a][ ][b][a][ ][ ][ ] \n\nCurrent player: b\n[ ][ ][ ][ ][ ][ ][ ]\n[ ][ ][ ][ ][ ][ ][ ]\n[b][ ][ ][ ][ ][ ][ ]\n[a][ ][ ][ ][ ][ ][ ]\n[b][ ][ ][a][ ][ ][ ]\n[a][ ][b][a][ ][ ][ ] \n\nCurrent player: a\n[ ][ ][ ][ ][ ][ ][ ]\n[ ][ ][ ][ ][ ][ ][ ]\n[b][ ][ ][ ][ ][ ][ ]\n[a][ ][ ][b][ ][ ][ ]\n[b][ ][ ][a][ ][ ][ ]\n[a][ ][b][a][ ][ ][ ] \n\nCurrent player: b\n[ ][ ][ ][ ][ ][ ][ ]\n[ ][ ][ ][ ][ ][ ][ ]\n[b][ ][ ][ ][ ][ ][ ]\n[a][ ][ ][b][ ][ ][ ]\n[b][ ][a][a][ ][ ][ ]\n[a][ ][b][a][ ][ ][ ] \n\nCurrent player: a\n[ ][ ][ ][ ][ ][ ][ ]\n[ ][ ][ ][ ][ ][ ][ ]\n[b][ ][ ][ ][ ][ ][ ]\n[a][ ][b][b][ ][ ][ ]\n[b][ ][a][a][ ][ ][ ]\n[a][ ][b][a][ ][ ][ ] \n\nCurrent player: b\n[ ][ ][ ][ ][ ][ ][ ]\n[ ][ ][ ][ ][ ][ ][ ]\n[b][ ][a][ ][ ][ ][ ]\n[a][ ][b][b][ ][ ][ ]\n[b][ ][a][a][ ][ ][ ]\n[a][ ][b][a][ ][ ][ ] \n\nCurrent player: a\n[ ][ ][ ][ ][ ][ ][ ]\n[ ][ ][ ][ ][ ][ ][ ]\n[b][ ][a][b][ ][ ][ ]\n[a][ ][b][b][ ][ ][ ]\n[b][ ][a][a][ ][ ][ ]\n[a][ ][b][a][ ][ ][ ] \n\nCurrent player: b\n[ ][ ][ ][ ][ ][ ][ ]\n[ ][ ][ ][a][ ][ ][ ]\n[b][ ][a][b][ ][ ][ ]\n[a][ ][b][b][ ][ ][ ]\n[b][ ][a][a][ ][ ][ ]\n[a][ ][b][a][ ][ ][ ] \n\nCurrent player: a\n[ ][ ][ ][ ][ ][ ][ ]\n[ ][ ][b][a][ ][ ][ ]\n[b][ ][a][b][ ][ ][ ]\n[a][ ][b][b][ ][ ][ ]\n[b][ ][a][a][ ][ ][ ]\n[a][ ][b][a][ ][ ][ ] \n\nCurrent player: b\n[ ][ ][a][ ][ ][ ][ ]\n[ ][ ][b][a][ ][ ][ ]\n[b][ ][a][b][ ][ ][ ]\n[a][ ][b][b][ ][ ][ ]\n[b][ ][a][a][ ][ ][ ]\n[a][ ][b][a][ ][ ][ ] \n\nCurrent player: a\n[ ][ ][a][b][ ][ ][ ]\n[ ][ ][b][a][ ][ ][ ]\n[b][ ][a][b][ ][ ][ ]\n[a][ ][b][b][ ][ ][ ]\n[b][ ][a][a][ ][ ][ ]\n[a][ ][b][a][ ][ ][ ] \n\nCurrent player: b\n[ ][ ][a][b][ ][ ][ ]\n[ ][ ][b][a][ ][ ][ ]\n[b][ ][a][b][ ][ ][ ]\n[a][ ][b][b][ ][ ][ ]\n[b][ ][a][a][ ][ ][ ]\n[a][ ][b][a][ ][ ][a] \n\nCurrent player: a\n[ ][ ][a][b][ ][ ][ ]\n[b][ ][b][a][ ][ ][ ]\n[b][ ][a][b][ ][ ][ ]\n[a][ ][b][b][ ][ ][ ]\n[b][ ][a][a][ ][ ][ ]\n[a][ ][b][a][ ][ ][a] \n\nCurrent player: b\n[ ][ ][a][b][ ][ ][ ]\n[b][ ][b][a][ ][ ][ ]\n[b][ ][a][b][ ][ ][ ]\n[a][ ][b][b][ ][ ][ ]\n[b][ ][a][a][ ][ ][a]\n[a][ ][b][a][ ][ ][a] \n\nCurrent player: a\n[ ][ ][a][b][ ][ ][ ]\n[b][ ][b][a][ ][ ][ ]\n[b][ ][a][b][ ][ ][ ]\n[a][ ][b][b][ ][ ][b]\n[b][ ][a][a][ ][ ][a]\n[a][ ][b][a][ ][ ][a] \n\nCurrent player: b\n[ ][ ][a][b][ ][ ][ ]\n[b][ ][b][a][ ][ ][ ]\n[b][ ][a][b][ ][ ][a]\n[a][ ][b][b][ ][ ][b]\n[b][ ][a][a][ ][ ][a]\n[a][ ][b][a][ ][ ][a] \n\nCurrent player: a\n[b][ ][a][b][ ][ ][ ]\n[b][ ][b][a][ ][ ][ ]\n[b][ ][a][b][ ][ ][a]\n[a][ ][b][b][ ][ ][b]\n[b][ ][a][a][ ][ ][a]\n[a][ ][b][a][ ][ ][a] \n\nCurrent player: b\n[b][ ][a][b][ ][ ][ ]\n[b][ ][b][a][ ][ ][a]\n[b][ ][a][b][ ][ ][a]\n[a][ ][b][b][ ][ ][b]\n[b][ ][a][a][ ][ ][a]\n[a][ ][b][a][ ][ ][a] \n\nCurrent player: a\n[b][ ][a][b][ ][ ][b]\n[b][ ][b][a][ ][ ][a]\n[b][ ][a][b][ ][ ][a]\n[a][ ][b][b][ ][ ][b]\n[b][ ][a][a][ ][ ][a]\n[a][ ][b][a][ ][ ][a] \n\nCurrent player: b\n[b][ ][a][b][ ][ ][b]\n[b][ ][b][a][ ][ ][a]\n[b][ ][a][b][ ][ ][a]\n[a][ ][b][b][ ][ ][b]\n[b][ ][a][a][ ][ ][a]\n[a][ ][b][a][a][ ][a] \n\nCurrent player: a\n[b][ ][a][b][ ][ ][b]\n[b][ ][b][a][ ][ ][a]\n[b][ ][a][b][ ][ ][a]\n[a][ ][b][b][ ][ ][b]\n[b][ ][a][a][ ][ ][a]\n[a][ ][b][a][a][b][a] \n\nCurrent player: b\n[b][ ][a][b][ ][ ][b]\n[b][ ][b][a][ ][ ][a]\n[b][ ][a][b][ ][ ][a]\n[a][ ][b][b][ ][ ][b]\n[b][ ][a][a][ ][a][a]\n[a][ ][b][a][a][b][a] \n\nCurrent player: a\n[b][ ][a][b][ ][ ][b]\n[b][ ][b][a][ ][ ][a]\n[b][ ][a][b][ ][ ][a]\n[a][ ][b][b][ ][ ][b]\n[b][ ][a][a][b][a][a]\n[a][ ][b][a][a][b][a] \n\nCurrent player: b\n[b][ ][a][b][ ][ ][b]\n[b][ ][b][a][ ][ ][a]\n[b][ ][a][b][ ][ ][a]\n[a][ ][b][b][a][ ][b]\n[b][ ][a][a][b][a][a]\n[a][ ][b][a][a][b][a] \n\nCurrent player: a\n[b][ ][a][b][ ][ ][b]\n[b][ ][b][a][ ][ ][a]\n[b][ ][a][b][b][ ][a]\n[a][ ][b][b][a][ ][b]\n[b][ ][a][a][b][a][a]\n[a][ ][b][a][a][b][a] \n\nCurrent player: b\n[b][ ][a][b][ ][ ][b]\n[b][ ][b][a][a][ ][a]\n[b][ ][a][b][b][ ][a]\n[a][ ][b][b][a][ ][b]\n[b][ ][a][a][b][a][a]\n[a][ ][b][a][a][b][a] \n\nCurrent player: a\n[b][ ][a][b][b][ ][b]\n[b][ ][b][a][a][ ][a]\n[b][ ][a][b][b][ ][a]\n[a][ ][b][b][a][ ][b]\n[b][ ][a][a][b][a][a]\n[a][ ][b][a][a][b][a] \n\nCurrent player: b\n[b][ ][a][b][b][ ][b]\n[b][ ][b][a][a][ ][a]\n[b][ ][a][b][b][ ][a]\n[a][ ][b][b][a][ ][b]\n[b][ ][a][a][b][a][a]\n[a][a][b][a][a][b][a] \n\nCurrent player: a\n[b][ ][a][b][b][ ][b]\n[b][ ][b][a][a][ ][a]\n[b][ ][a][b][b][ ][a]\n[a][ ][b][b][a][ ][b]\n[b][b][a][a][b][a][a]\n[a][a][b][a][a][b][a] \n\nCurrent player: b\n[b][ ][a][b][b][ ][b]\n[b][ ][b][a][a][ ][a]\n[b][ ][a][b][b][ ][a]\n[a][a][b][b][a][ ][b]\n[b][b][a][a][b][a][a]\n[a][a][b][a][a][b][a] \n\nCurrent player: a\n[b][ ][a][b][b][ ][b]\n[b][ ][b][a][a][ ][a]\n[b][b][a][b][b][ ][a]\n[a][a][b][b][a][ ][b]\n[b][b][a][a][b][a][a]\n[a][a][b][a][a][b][a] \n\nCurrent player: b\n[b][ ][a][b][b][ ][b]\n[b][a][b][a][a][ ][a]\n[b][b][a][b][b][ ][a]\n[a][a][b][b][a][ ][b]\n[b][b][a][a][b][a][a]\n[a][a][b][a][a][b][a] \n\nCurrent player: a\n[b][b][a][b][b][ ][b]\n[b][a][b][a][a][ ][a]\n[b][b][a][b][b][ ][a]\n[a][a][b][b][a][ ][b]\n[b][b][a][a][b][a][a]\n[a][a][b][a][a][b][a] \n\nCurrent player: b\n[b][b][a][b][b][ ][b]\n[b][a][b][a][a][ ][a]\n[b][b][a][b][b][ ][a]\n[a][a][b][b][a][a][b]\n[b][b][a][a][b][a][a]\n[a][a][b][a][a][b][a] \n\nCurrent player: a\n[b][b][a][b][b][ ][b]\n[b][a][b][a][a][ ][a]\n[b][b][a][b][b][b][a]\n[a][a][b][b][a][a][b]\n[b][b][a][a][b][a][a]\n[a][a][b][a][a][b][a] \n\nCurrent player: b\n[b][b][a][b][b][ ][b]\n[b][a][b][a][a][a][a]\n[b][b][a][b][b][b][a]\n[a][a][b][b][a][a][b]\n[b][b][a][a][b][a][a]\n[a][a][b][a][a][b][a] \n\nWinner a\n============================================================ \n\nDepth:  3\nCurrent player: b\n[ ][ ][ ][ ][ ][ ][ ]\n[ ][ ][ ][ ][ ][ ][ ]\n[ ][ ][ ][ ][ ][ ][ ]\n[ ][ ][ ][ ][ ][ ][ ]\n[ ][ ][ ][ ][ ][ ][ ]\n[a][ ][ ][ ][ ][ ][ ] \n\nCurrent player: a\n[ ][ ][ ][ ][ ][ ][ ]\n[ ][ ][ ][ ][ ][ ][ ]\n[ ][ ][ ][ ][ ][ ][ ]\n[ ][ ][ ][ ][ ][ ][ ]\n[ ][ ][ ][ ][ ][ ][ ]\n[a][ ][b][ ][ ][ ][ ] \n\nCurrent player: b\n[ ][ ][ ][ ][ ][ ][ ]\n[ ][ ][ ][ ][ ][ ][ ]\n[ ][ ][ ][ ][ ][ ][ ]\n[ ][ ][ ][ ][ ][ ][ ]\n[a][ ][ ][ ][ ][ ][ ]\n[a][ ][b][ ][ ][ ][ ] \n\nCurrent player: a\n[ ][ ][ ][ ][ ][ ][ ]\n[ ][ ][ ][ ][ ][ ][ ]\n[ ][ ][ ][ ][ ][ ][ ]\n[b][ ][ ][ ][ ][ ][ ]\n[a][ ][ ][ ][ ][ ][ ]\n[a][ ][b][ ][ ][ ][ ] \n\nCurrent player: b\n[ ][ ][ ][ ][ ][ ][ ]\n[ ][ ][ ][ ][ ][ ][ ]\n[ ][ ][ ][ ][ ][ ][ ]\n[b][ ][ ][ ][ ][ ][ ]\n[a][ ][ ][ ][ ][ ][ ]\n[a][a][b][ ][ ][ ][ ] \n\nCurrent player: a\n[ ][ ][ ][ ][ ][ ][ ]\n[ ][ ][ ][ ][ ][ ][ ]\n[b][ ][ ][ ][ ][ ][ ]\n[b][ ][ ][ ][ ][ ][ ]\n[a][ ][ ][ ][ ][ ][ ]\n[a][a][b][ ][ ][ ][ ] \n\nCurrent player: b\n[ ][ ][ ][ ][ ][ ][ ]\n[ ][ ][ ][ ][ ][ ][ ]\n[b][ ][ ][ ][ ][ ][ ]\n[b][ ][ ][ ][ ][ ][ ]\n[a][a][ ][ ][ ][ ][ ]\n[a][a][b][ ][ ][ ][ ] \n\nCurrent player: a\n[ ][ ][ ][ ][ ][ ][ ]\n[ ][ ][ ][ ][ ][ ][ ]\n[b][ ][ ][ ][ ][ ][ ]\n[b][ ][ ][ ][ ][ ][ ]\n[a][a][ ][ ][ ][ ][ ]\n[a][a][b][b][ ][ ][ ] \n\nCurrent player: b\n[ ][ ][ ][ ][ ][ ][ ]\n[ ][ ][ ][ ][ ][ ][ ]\n[b][ ][ ][ ][ ][ ][ ]\n[b][a][ ][ ][ ][ ][ ]\n[a][a][ ][ ][ ][ ][ ]\n[a][a][b][b][ ][ ][ ] \n\nCurrent player: a\n[ ][ ][ ][ ][ ][ ][ ]\n[ ][ ][ ][ ][ ][ ][ ]\n[b][b][ ][ ][ ][ ][ ]\n[b][a][ ][ ][ ][ ][ ]\n[a][a][ ][ ][ ][ ][ ]\n[a][a][b][b][ ][ ][ ] \n\nCurrent player: b\n[ ][ ][ ][ ][ ][ ][ ]\n[ ][ ][ ][ ][ ][ ][ ]\n[b][b][ ][ ][ ][ ][ ]\n[b][a][ ][ ][ ][ ][ ]\n[a][a][a][ ][ ][ ][ ]\n[a][a][b][b][ ][ ][ ] \n\nCurrent player: a\n[ ][ ][ ][ ][ ][ ][ ]\n[ ][ ][ ][ ][ ][ ][ ]\n[b][b][ ][ ][ ][ ][ ]\n[b][a][ ][ ][ ][ ][ ]\n[a][a][a][b][ ][ ][ ]\n[a][a][b][b][ ][ ][ ] \n\nCurrent player: b\n[ ][ ][ ][ ][ ][ ][ ]\n[ ][ ][ ][ ][ ][ ][ ]\n[b][b][ ][ ][ ][ ][ ]\n[b][a][a][ ][ ][ ][ ]\n[a][a][a][b][ ][ ][ ]\n[a][a][b][b][ ][ ][ ] \n\nCurrent player: a\n[ ][ ][ ][ ][ ][ ][ ]\n[ ][ ][ ][ ][ ][ ][ ]\n[b][b][b][ ][ ][ ][ ]\n[b][a][a][ ][ ][ ][ ]\n[a][a][a][b][ ][ ][ ]\n[a][a][b][b][ ][ ][ ] \n\nCurrent player: b\n[ ][ ][ ][ ][ ][ ][ ]\n[ ][ ][ ][ ][ ][ ][ ]\n[b][b][b][ ][ ][ ][ ]\n[b][a][a][ ][ ][ ][ ]\n[a][a][a][b][ ][ ][ ]\n[a][a][b][b][a][ ][ ] \n\nCurrent player: a\n[ ][ ][ ][ ][ ][ ][ ]\n[ ][ ][ ][ ][ ][ ][ ]\n[b][b][b][ ][ ][ ][ ]\n[b][a][a][ ][ ][ ][ ]\n[a][a][a][b][b][ ][ ]\n[a][a][b][b][a][ ][ ] \n\nCurrent player: b\n[ ][ ][ ][ ][ ][ ][ ]\n[ ][ ][ ][ ][ ][ ][ ]\n[b][b][b][ ][ ][ ][ ]\n[b][a][a][ ][a][ ][ ]\n[a][a][a][b][b][ ][ ]\n[a][a][b][b][a][ ][ ] \n\nCurrent player: a\n[ ][ ][ ][ ][ ][ ][ ]\n[ ][ ][ ][ ][ ][ ][ ]\n[b][b][b][ ][ ][ ][ ]\n[b][a][a][b][a][ ][ ]\n[a][a][a][b][b][ ][ ]\n[a][a][b][b][a][ ][ ] \n\nCurrent player: b\n[ ][ ][ ][ ][ ][ ][ ]\n[ ][ ][ ][ ][ ][ ][ ]\n[b][b][b][a][ ][ ][ ]\n[b][a][a][b][a][ ][ ]\n[a][a][a][b][b][ ][ ]\n[a][a][b][b][a][ ][ ] \n\nWinner a\n============================================================ \n\nDepth:  4\nCurrent player: b\n[ ][ ][ ][ ][ ][ ][ ]\n[ ][ ][ ][ ][ ][ ][ ]\n[ ][ ][ ][ ][ ][ ][ ]\n[ ][ ][ ][ ][ ][ ][ ]\n[ ][ ][ ][ ][ ][ ][ ]\n[ ][ ][a][ ][ ][ ][ ] \n\nCurrent player: a\n[ ][ ][ ][ ][ ][ ][ ]\n[ ][ ][ ][ ][ ][ ][ ]\n[ ][ ][ ][ ][ ][ ][ ]\n[ ][ ][ ][ ][ ][ ][ ]\n[ ][ ][ ][ ][ ][ ][ ]\n[b][ ][a][ ][ ][ ][ ] \n\nCurrent player: b\n[ ][ ][ ][ ][ ][ ][ ]\n[ ][ ][ ][ ][ ][ ][ ]\n[ ][ ][ ][ ][ ][ ][ ]\n[ ][ ][ ][ ][ ][ ][ ]\n[ ][ ][ ][ ][ ][ ][ ]\n[b][ ][a][a][ ][ ][ ] \n\nCurrent player: a\n[ ][ ][ ][ ][ ][ ][ ]\n[ ][ ][ ][ ][ ][ ][ ]\n[ ][ ][ ][ ][ ][ ][ ]\n[ ][ ][ ][ ][ ][ ][ ]\n[ ][ ][ ][ ][ ][ ][ ]\n[b][ ][a][a][b][ ][ ] \n\nCurrent player: b\n[ ][ ][ ][ ][ ][ ][ ]\n[ ][ ][ ][ ][ ][ ][ ]\n[ ][ ][ ][ ][ ][ ][ ]\n[ ][ ][ ][ ][ ][ ][ ]\n[ ][ ][ ][a][ ][ ][ ]\n[b][ ][a][a][b][ ][ ] \n\nCurrent player: a\n[ ][ ][ ][ ][ ][ ][ ]\n[ ][ ][ ][ ][ ][ ][ ]\n[ ][ ][ ][ ][ ][ ][ ]\n[ ][ ][ ][ ][ ][ ][ ]\n[ ][ ][b][a][ ][ ][ ]\n[b][ ][a][a][b][ ][ ] \n\nCurrent player: b\n[ ][ ][ ][ ][ ][ ][ ]\n[ ][ ][ ][ ][ ][ ][ ]\n[ ][ ][ ][ ][ ][ ][ ]\n[ ][ ][ ][a][ ][ ][ ]\n[ ][ ][b][a][ ][ ][ ]\n[b][ ][a][a][b][ ][ ] \n\nCurrent player: a\n[ ][ ][ ][ ][ ][ ][ ]\n[ ][ ][ ][ ][ ][ ][ ]\n[ ][ ][ ][b][ ][ ][ ]\n[ ][ ][ ][a][ ][ ][ ]\n[ ][ ][b][a][ ][ ][ ]\n[b][ ][a][a][b][ ][ ] \n\nCurrent player: b\n[ ][ ][ ][ ][ ][ ][ ]\n[ ][ ][ ][ ][ ][ ][ ]\n[ ][ ][ ][b][ ][ ][ ]\n[ ][ ][a][a][ ][ ][ ]\n[ ][ ][b][a][ ][ ][ ]\n[b][ ][a][a][b][ ][ ] \n\nCurrent player: a\n[ ][ ][ ][ ][ ][ ][ ]\n[ ][ ][ ][ ][ ][ ][ ]\n[ ][ ][b][b][ ][ ][ ]\n[ ][ ][a][a][ ][ ][ ]\n[ ][ ][b][a][ ][ ][ ]\n[b][ ][a][a][b][ ][ ] \n\nCurrent player: b\n[ ][ ][ ][ ][ ][ ][ ]\n[ ][ ][a][ ][ ][ ][ ]\n[ ][ ][b][b][ ][ ][ ]\n[ ][ ][a][a][ ][ ][ ]\n[ ][ ][b][a][ ][ ][ ]\n[b][ ][a][a][b][ ][ ] \n\nCurrent player: a\n[ ][ ][ ][ ][ ][ ][ ]\n[ ][ ][a][b][ ][ ][ ]\n[ ][ ][b][b][ ][ ][ ]\n[ ][ ][a][a][ ][ ][ ]\n[ ][ ][b][a][ ][ ][ ]\n[b][ ][a][a][b][ ][ ] \n\nCurrent player: b\n[ ][ ][ ][ ][ ][ ][ ]\n[ ][ ][a][b][ ][ ][ ]\n[ ][ ][b][b][ ][ ][ ]\n[ ][ ][a][a][ ][ ][ ]\n[a][ ][b][a][ ][ ][ ]\n[b][ ][a][a][b][ ][ ] \n\nCurrent player: a\n[ ][ ][ ][ ][ ][ ][ ]\n[ ][ ][a][b][ ][ ][ ]\n[ ][ ][b][b][ ][ ][ ]\n[b][ ][a][a][ ][ ][ ]\n[a][ ][b][a][ ][ ][ ]\n[b][ ][a][a][b][ ][ ] \n\nCurrent player: b\n[ ][ ][ ][ ][ ][ ][ ]\n[ ][ ][a][b][ ][ ][ ]\n[a][ ][b][b][ ][ ][ ]\n[b][ ][a][a][ ][ ][ ]\n[a][ ][b][a][ ][ ][ ]\n[b][ ][a][a][b][ ][ ] \n\nCurrent player: a\n[ ][ ][ ][ ][ ][ ][ ]\n[b][ ][a][b][ ][ ][ ]\n[a][ ][b][b][ ][ ][ ]\n[b][ ][a][a][ ][ ][ ]\n[a][ ][b][a][ ][ ][ ]\n[b][ ][a][a][b][ ][ ] \n\nCurrent player: b\n[ ][ ][a][ ][ ][ ][ ]\n[b][ ][a][b][ ][ ][ ]\n[a][ ][b][b][ ][ ][ ]\n[b][ ][a][a][ ][ ][ ]\n[a][ ][b][a][ ][ ][ ]\n[b][ ][a][a][b][ ][ ] \n\nCurrent player: a\n[ ][ ][a][b][ ][ ][ ]\n[b][ ][a][b][ ][ ][ ]\n[a][ ][b][b][ ][ ][ ]\n[b][ ][a][a][ ][ ][ ]\n[a][ ][b][a][ ][ ][ ]\n[b][ ][a][a][b][ ][ ] \n\nCurrent player: b\n[ ][ ][a][b][ ][ ][ ]\n[b][ ][a][b][ ][ ][ ]\n[a][ ][b][b][ ][ ][ ]\n[b][ ][a][a][ ][ ][ ]\n[a][ ][b][a][ ][ ][ ]\n[b][ ][a][a][b][ ][a] \n\nCurrent player: a\n[ ][ ][a][b][ ][ ][ ]\n[b][ ][a][b][ ][ ][ ]\n[a][ ][b][b][ ][ ][ ]\n[b][ ][a][a][ ][ ][ ]\n[a][ ][b][a][ ][ ][b]\n[b][ ][a][a][b][ ][a] \n\nCurrent player: b\n[ ][ ][a][b][ ][ ][ ]\n[b][ ][a][b][ ][ ][ ]\n[a][ ][b][b][ ][ ][ ]\n[b][ ][a][a][ ][ ][ ]\n[a][ ][b][a][a][ ][b]\n[b][ ][a][a][b][ ][a] \n\nCurrent player: a\n[ ][ ][a][b][ ][ ][ ]\n[b][ ][a][b][ ][ ][ ]\n[a][ ][b][b][ ][ ][ ]\n[b][ ][a][a][b][ ][ ]\n[a][ ][b][a][a][ ][b]\n[b][ ][a][a][b][ ][a] \n\nCurrent player: b\n[ ][ ][a][b][ ][ ][ ]\n[b][ ][a][b][ ][ ][ ]\n[a][ ][b][b][a][ ][ ]\n[b][ ][a][a][b][ ][ ]\n[a][ ][b][a][a][ ][b]\n[b][ ][a][a][b][ ][a] \n\nCurrent player: a\n[b][ ][a][b][ ][ ][ ]\n[b][ ][a][b][ ][ ][ ]\n[a][ ][b][b][a][ ][ ]\n[b][ ][a][a][b][ ][ ]\n[a][ ][b][a][a][ ][b]\n[b][ ][a][a][b][ ][a] \n\nCurrent player: b\n[b][ ][a][b][ ][ ][ ]\n[b][ ][a][b][ ][ ][ ]\n[a][ ][b][b][a][ ][ ]\n[b][ ][a][a][b][ ][a]\n[a][ ][b][a][a][ ][b]\n[b][ ][a][a][b][ ][a] \n\nCurrent player: a\n[b][ ][a][b][ ][ ][ ]\n[b][ ][a][b][ ][ ][ ]\n[a][ ][b][b][a][ ][b]\n[b][ ][a][a][b][ ][a]\n[a][ ][b][a][a][ ][b]\n[b][ ][a][a][b][ ][a] \n\nCurrent player: b\n[b][ ][a][b][ ][ ][ ]\n[b][ ][a][b][ ][ ][a]\n[a][ ][b][b][a][ ][b]\n[b][ ][a][a][b][ ][a]\n[a][ ][b][a][a][ ][b]\n[b][ ][a][a][b][ ][a] \n\nCurrent player: a\n[b][ ][a][b][ ][ ][b]\n[b][ ][a][b][ ][ ][a]\n[a][ ][b][b][a][ ][b]\n[b][ ][a][a][b][ ][a]\n[a][ ][b][a][a][ ][b]\n[b][ ][a][a][b][ ][a] \n\nCurrent player: b\n[b][ ][a][b][ ][ ][b]\n[b][ ][a][b][ ][ ][a]\n[a][ ][b][b][a][ ][b]\n[b][ ][a][a][b][ ][a]\n[a][ ][b][a][a][ ][b]\n[b][a][a][a][b][ ][a] \n\nCurrent player: a\n[b][ ][a][b][ ][ ][b]\n[b][ ][a][b][ ][ ][a]\n[a][ ][b][b][a][ ][b]\n[b][ ][a][a][b][ ][a]\n[a][b][b][a][a][ ][b]\n[b][a][a][a][b][ ][a] \n\nCurrent player: b\n[b][ ][a][b][ ][ ][b]\n[b][ ][a][b][ ][ ][a]\n[a][ ][b][b][a][ ][b]\n[b][a][a][a][b][ ][a]\n[a][b][b][a][a][ ][b]\n[b][a][a][a][b][ ][a] \n\nCurrent player: a\n[b][ ][a][b][ ][ ][b]\n[b][ ][a][b][ ][ ][a]\n[a][b][b][b][a][ ][b]\n[b][a][a][a][b][ ][a]\n[a][b][b][a][a][ ][b]\n[b][a][a][a][b][ ][a] \n\nCurrent player: b\n[b][ ][a][b][ ][ ][b]\n[b][a][a][b][ ][ ][a]\n[a][b][b][b][a][ ][b]\n[b][a][a][a][b][ ][a]\n[a][b][b][a][a][ ][b]\n[b][a][a][a][b][ ][a] \n\nCurrent player: a\n[b][b][a][b][ ][ ][b]\n[b][a][a][b][ ][ ][a]\n[a][b][b][b][a][ ][b]\n[b][a][a][a][b][ ][a]\n[a][b][b][a][a][ ][b]\n[b][a][a][a][b][ ][a] \n\nCurrent player: b\n[b][b][a][b][ ][ ][b]\n[b][a][a][b][ ][ ][a]\n[a][b][b][b][a][ ][b]\n[b][a][a][a][b][ ][a]\n[a][b][b][a][a][ ][b]\n[b][a][a][a][b][a][a] \n\nCurrent player: a\n[b][b][a][b][ ][ ][b]\n[b][a][a][b][ ][ ][a]\n[a][b][b][b][a][ ][b]\n[b][a][a][a][b][ ][a]\n[a][b][b][a][a][b][b]\n[b][a][a][a][b][a][a] \n\nCurrent player: b\n[b][b][a][b][ ][ ][b]\n[b][a][a][b][a][ ][a]\n[a][b][b][b][a][ ][b]\n[b][a][a][a][b][ ][a]\n[a][b][b][a][a][b][b]\n[b][a][a][a][b][a][a] \n\nCurrent player: a\n[b][b][a][b][b][ ][b]\n[b][a][a][b][a][ ][a]\n[a][b][b][b][a][ ][b]\n[b][a][a][a][b][ ][a]\n[a][b][b][a][a][b][b]\n[b][a][a][a][b][a][a] \n\nCurrent player: b\n[b][b][a][b][b][ ][b]\n[b][a][a][b][a][ ][a]\n[a][b][b][b][a][ ][b]\n[b][a][a][a][b][a][a]\n[a][b][b][a][a][b][b]\n[b][a][a][a][b][a][a] \n\nCurrent player: a\n[b][b][a][b][b][ ][b]\n[b][a][a][b][a][ ][a]\n[a][b][b][b][a][b][b]\n[b][a][a][a][b][a][a]\n[a][b][b][a][a][b][b]\n[b][a][a][a][b][a][a] \n\nCurrent player: b\n[b][b][a][b][b][ ][b]\n[b][a][a][b][a][a][a]\n[a][b][b][b][a][b][b]\n[b][a][a][a][b][a][a]\n[a][b][b][a][a][b][b]\n[b][a][a][a][b][a][a] \n\nCurrent player: a\n[b][b][a][b][b][b][b]\n[b][a][a][b][a][a][a]\n[a][b][b][b][a][b][b]\n[b][a][a][a][b][a][a]\n[a][b][b][a][a][b][b]\n[b][a][a][a][b][a][a] \n\nWinner b\n============================================================ \n\nDepth:  5\nCurrent player: b\n[ ][ ][ ][ ][ ][ ][ ]\n[ ][ ][ ][ ][ ][ ][ ]\n[ ][ ][ ][ ][ ][ ][ ]\n[ ][ ][ ][ ][ ][ ][ ]\n[ ][ ][ ][ ][ ][ ][ ]\n[ ][ ][a][ ][ ][ ][ ] \n\nCurrent player: a\n[ ][ ][ ][ ][ ][ ][ ]\n[ ][ ][ ][ ][ ][ ][ ]\n[ ][ ][ ][ ][ ][ ][ ]\n[ ][ ][ ][ ][ ][ ][ ]\n[ ][ ][b][ ][ ][ ][ ]\n[ ][ ][a][ ][ ][ ][ ] \n\nCurrent player: b\n[ ][ ][ ][ ][ ][ ][ ]\n[ ][ ][ ][ ][ ][ ][ ]\n[ ][ ][ ][ ][ ][ ][ ]\n[ ][ ][a][ ][ ][ ][ ]\n[ ][ ][b][ ][ ][ ][ ]\n[ ][ ][a][ ][ ][ ][ ] \n\nCurrent player: a\n[ ][ ][ ][ ][ ][ ][ ]\n[ ][ ][ ][ ][ ][ ][ ]\n[ ][ ][ ][ ][ ][ ][ ]\n[ ][ ][a][ ][ ][ ][ ]\n[ ][ ][b][ ][ ][ ][ ]\n[ ][ ][a][ ][b][ ][ ] \n\nCurrent player: b\n[ ][ ][ ][ ][ ][ ][ ]\n[ ][ ][ ][ ][ ][ ][ ]\n[ ][ ][a][ ][ ][ ][ ]\n[ ][ ][a][ ][ ][ ][ ]\n[ ][ ][b][ ][ ][ ][ ]\n[ ][ ][a][ ][b][ ][ ] \n\nCurrent player: a\n[ ][ ][ ][ ][ ][ ][ ]\n[ ][ ][ ][ ][ ][ ][ ]\n[ ][ ][a][ ][ ][ ][ ]\n[ ][ ][a][ ][ ][ ][ ]\n[ ][ ][b][ ][ ][ ][ ]\n[ ][ ][a][b][b][ ][ ] \n\nCurrent player: b\n[ ][ ][ ][ ][ ][ ][ ]\n[ ][ ][ ][ ][ ][ ][ ]\n[ ][ ][a][ ][ ][ ][ ]\n[ ][ ][a][ ][ ][ ][ ]\n[ ][ ][b][a][ ][ ][ ]\n[ ][ ][a][b][b][ ][ ] \n\nCurrent player: a\n[ ][ ][ ][ ][ ][ ][ ]\n[ ][ ][ ][ ][ ][ ][ ]\n[ ][ ][a][ ][ ][ ][ ]\n[ ][ ][a][b][ ][ ][ ]\n[ ][ ][b][a][ ][ ][ ]\n[ ][ ][a][b][b][ ][ ] \n\nCurrent player: b\n[ ][ ][ ][ ][ ][ ][ ]\n[ ][ ][ ][ ][ ][ ][ ]\n[ ][ ][a][a][ ][ ][ ]\n[ ][ ][a][b][ ][ ][ ]\n[ ][ ][b][a][ ][ ][ ]\n[ ][ ][a][b][b][ ][ ] \n\nCurrent player: a\n[ ][ ][ ][ ][ ][ ][ ]\n[ ][ ][ ][ ][ ][ ][ ]\n[ ][ ][a][a][ ][ ][ ]\n[ ][ ][a][b][ ][ ][ ]\n[ ][ ][b][a][ ][ ][ ]\n[ ][ ][a][b][b][ ][b] \n\nCurrent player: b\n[ ][ ][ ][ ][ ][ ][ ]\n[ ][ ][ ][ ][ ][ ][ ]\n[ ][ ][a][a][ ][ ][ ]\n[ ][ ][a][b][ ][ ][ ]\n[ ][ ][b][a][ ][ ][ ]\n[ ][ ][a][b][b][a][b] \n\nCurrent player: a\n[ ][ ][ ][ ][ ][ ][ ]\n[ ][ ][b][ ][ ][ ][ ]\n[ ][ ][a][a][ ][ ][ ]\n[ ][ ][a][b][ ][ ][ ]\n[ ][ ][b][a][ ][ ][ ]\n[ ][ ][a][b][b][a][b] \n\nCurrent player: b\n[ ][ ][ ][ ][ ][ ][ ]\n[ ][ ][b][ ][ ][ ][ ]\n[ ][ ][a][a][ ][ ][ ]\n[ ][ ][a][b][ ][ ][ ]\n[ ][ ][b][a][ ][ ][ ]\n[ ][a][a][b][b][a][b] \n\nCurrent player: a\n[ ][ ][ ][ ][ ][ ][ ]\n[ ][ ][b][ ][ ][ ][ ]\n[ ][ ][a][a][ ][ ][ ]\n[ ][ ][a][b][ ][ ][ ]\n[ ][ ][b][a][ ][ ][ ]\n[b][a][a][b][b][a][b] \n\nCurrent player: b\n[ ][ ][ ][ ][ ][ ][ ]\n[ ][ ][b][a][ ][ ][ ]\n[ ][ ][a][a][ ][ ][ ]\n[ ][ ][a][b][ ][ ][ ]\n[ ][ ][b][a][ ][ ][ ]\n[b][a][a][b][b][a][b] \n\nCurrent player: a\n[ ][ ][ ][ ][ ][ ][ ]\n[ ][ ][b][a][ ][ ][ ]\n[ ][ ][a][a][ ][ ][ ]\n[ ][ ][a][b][ ][ ][ ]\n[ ][ ][b][a][ ][ ][b]\n[b][a][a][b][b][a][b] \n\nCurrent player: b\n[ ][ ][ ][ ][ ][ ][ ]\n[ ][ ][b][a][ ][ ][ ]\n[ ][ ][a][a][ ][ ][ ]\n[ ][ ][a][b][ ][ ][ ]\n[ ][a][b][a][ ][ ][b]\n[b][a][a][b][b][a][b] \n\nCurrent player: a\n[ ][ ][ ][ ][ ][ ][ ]\n[ ][ ][b][a][ ][ ][ ]\n[ ][ ][a][a][ ][ ][ ]\n[ ][ ][a][b][ ][ ][ ]\n[b][a][b][a][ ][ ][b]\n[b][a][a][b][b][a][b] \n\nCurrent player: b\n[ ][ ][ ][a][ ][ ][ ]\n[ ][ ][b][a][ ][ ][ ]\n[ ][ ][a][a][ ][ ][ ]\n[ ][ ][a][b][ ][ ][ ]\n[b][a][b][a][ ][ ][b]\n[b][a][a][b][b][a][b] \n\nCurrent player: a\n[ ][ ][ ][a][ ][ ][ ]\n[ ][ ][b][a][ ][ ][ ]\n[ ][ ][a][a][ ][ ][ ]\n[ ][ ][a][b][ ][ ][b]\n[b][a][b][a][ ][ ][b]\n[b][a][a][b][b][a][b] \n\nCurrent player: b\n[ ][ ][ ][a][ ][ ][ ]\n[ ][ ][b][a][ ][ ][ ]\n[ ][ ][a][a][ ][ ][a]\n[ ][ ][a][b][ ][ ][b]\n[b][a][b][a][ ][ ][b]\n[b][a][a][b][b][a][b] \n\nCurrent player: a\n[ ][ ][ ][a][ ][ ][ ]\n[ ][ ][b][a][ ][ ][ ]\n[ ][ ][a][a][ ][ ][a]\n[ ][b][a][b][ ][ ][b]\n[b][a][b][a][ ][ ][b]\n[b][a][a][b][b][a][b] \n\nCurrent player: b\n[ ][ ][ ][a][ ][ ][ ]\n[ ][ ][b][a][ ][ ][ ]\n[ ][a][a][a][ ][ ][a]\n[ ][b][a][b][ ][ ][b]\n[b][a][b][a][ ][ ][b]\n[b][a][a][b][b][a][b] \n\nCurrent player: a\n[ ][ ][b][a][ ][ ][ ]\n[ ][ ][b][a][ ][ ][ ]\n[ ][a][a][a][ ][ ][a]\n[ ][b][a][b][ ][ ][b]\n[b][a][b][a][ ][ ][b]\n[b][a][a][b][b][a][b] \n\nCurrent player: b\n[ ][ ][b][a][ ][ ][ ]\n[ ][ ][b][a][ ][ ][ ]\n[ ][a][a][a][ ][ ][a]\n[ ][b][a][b][ ][ ][b]\n[b][a][b][a][a][ ][b]\n[b][a][a][b][b][a][b] \n\nCurrent player: a\n[ ][ ][b][a][ ][ ][ ]\n[ ][ ][b][a][ ][ ][b]\n[ ][a][a][a][ ][ ][a]\n[ ][b][a][b][ ][ ][b]\n[b][a][b][a][a][ ][b]\n[b][a][a][b][b][a][b] \n\nCurrent player: b\n[ ][ ][b][a][ ][ ][a]\n[ ][ ][b][a][ ][ ][b]\n[ ][a][a][a][ ][ ][a]\n[ ][b][a][b][ ][ ][b]\n[b][a][b][a][a][ ][b]\n[b][a][a][b][b][a][b] \n\nCurrent player: a\n[ ][ ][b][a][ ][ ][a]\n[ ][b][b][a][ ][ ][b]\n[ ][a][a][a][ ][ ][a]\n[ ][b][a][b][ ][ ][b]\n[b][a][b][a][a][ ][b]\n[b][a][a][b][b][a][b] \n\nCurrent player: b\n[ ][a][b][a][ ][ ][a]\n[ ][b][b][a][ ][ ][b]\n[ ][a][a][a][ ][ ][a]\n[ ][b][a][b][ ][ ][b]\n[b][a][b][a][a][ ][b]\n[b][a][a][b][b][a][b] \n\nCurrent player: a\n[ ][a][b][a][ ][ ][a]\n[ ][b][b][a][ ][ ][b]\n[ ][a][a][a][ ][ ][a]\n[ ][b][a][b][ ][ ][b]\n[b][a][b][a][a][b][b]\n[b][a][a][b][b][a][b] \n\nCurrent player: b\n[ ][a][b][a][ ][ ][a]\n[ ][b][b][a][ ][ ][b]\n[ ][a][a][a][ ][ ][a]\n[ ][b][a][b][a][ ][b]\n[b][a][b][a][a][b][b]\n[b][a][a][b][b][a][b] \n\nCurrent player: a\n[ ][a][b][a][ ][ ][a]\n[ ][b][b][a][ ][ ][b]\n[ ][a][a][a][b][ ][a]\n[ ][b][a][b][a][ ][b]\n[b][a][b][a][a][b][b]\n[b][a][a][b][b][a][b] \n\nCurrent player: b\n[ ][a][b][a][ ][ ][a]\n[ ][b][b][a][a][ ][b]\n[ ][a][a][a][b][ ][a]\n[ ][b][a][b][a][ ][b]\n[b][a][b][a][a][b][b]\n[b][a][a][b][b][a][b] \n\nWinner a\n============================================================ \n\nDepth:  6\nCurrent player: b\n[ ][ ][ ][ ][ ][ ][ ]\n[ ][ ][ ][ ][ ][ ][ ]\n[ ][ ][ ][ ][ ][ ][ ]\n[ ][ ][ ][ ][ ][ ][ ]\n[ ][ ][ ][ ][ ][ ][ ]\n[ ][ ][ ][a][ ][ ][ ] \n\nCurrent player: a\n[ ][ ][ ][ ][ ][ ][ ]\n[ ][ ][ ][ ][ ][ ][ ]\n[ ][ ][ ][ ][ ][ ][ ]\n[ ][ ][ ][ ][ ][ ][ ]\n[ ][ ][ ][b][ ][ ][ ]\n[ ][ ][ ][a][ ][ ][ ] \n\nCurrent player: b\n[ ][ ][ ][ ][ ][ ][ ]\n[ ][ ][ ][ ][ ][ ][ ]\n[ ][ ][ ][ ][ ][ ][ ]\n[ ][ ][ ][a][ ][ ][ ]\n[ ][ ][ ][b][ ][ ][ ]\n[ ][ ][ ][a][ ][ ][ ] \n\nCurrent player: a\n[ ][ ][ ][ ][ ][ ][ ]\n[ ][ ][ ][ ][ ][ ][ ]\n[ ][ ][ ][ ][ ][ ][ ]\n[ ][ ][ ][a][ ][ ][ ]\n[ ][ ][ ][b][ ][ ][ ]\n[ ][ ][b][a][ ][ ][ ] \n\nCurrent player: b\n[ ][ ][ ][ ][ ][ ][ ]\n[ ][ ][ ][ ][ ][ ][ ]\n[ ][ ][ ][ ][ ][ ][ ]\n[ ][ ][ ][a][ ][ ][ ]\n[ ][ ][a][b][ ][ ][ ]\n[ ][ ][b][a][ ][ ][ ] \n\nCurrent player: a\n[ ][ ][ ][ ][ ][ ][ ]\n[ ][ ][ ][ ][ ][ ][ ]\n[ ][ ][ ][ ][ ][ ][ ]\n[ ][ ][b][a][ ][ ][ ]\n[ ][ ][a][b][ ][ ][ ]\n[ ][ ][b][a][ ][ ][ ] \n\nCurrent player: b\n[ ][ ][ ][ ][ ][ ][ ]\n[ ][ ][ ][ ][ ][ ][ ]\n[ ][ ][a][ ][ ][ ][ ]\n[ ][ ][b][a][ ][ ][ ]\n[ ][ ][a][b][ ][ ][ ]\n[ ][ ][b][a][ ][ ][ ] \n\nCurrent player: a\n[ ][ ][ ][ ][ ][ ][ ]\n[ ][ ][ ][ ][ ][ ][ ]\n[ ][ ][a][b][ ][ ][ ]\n[ ][ ][b][a][ ][ ][ ]\n[ ][ ][a][b][ ][ ][ ]\n[ ][ ][b][a][ ][ ][ ] \n\nCurrent player: b\n[ ][ ][ ][ ][ ][ ][ ]\n[ ][ ][ ][ ][ ][ ][ ]\n[ ][ ][a][b][ ][ ][ ]\n[ ][ ][b][a][ ][ ][ ]\n[ ][ ][a][b][ ][ ][ ]\n[a][ ][b][a][ ][ ][ ] \n\nCurrent player: a\n[ ][ ][ ][ ][ ][ ][ ]\n[ ][ ][ ][ ][ ][ ][ ]\n[ ][ ][a][b][ ][ ][ ]\n[ ][ ][b][a][ ][ ][ ]\n[ ][ ][a][b][ ][ ][ ]\n[a][ ][b][a][ ][b][ ] \n\nCurrent player: b\n[ ][ ][ ][ ][ ][ ][ ]\n[ ][ ][ ][ ][ ][ ][ ]\n[ ][ ][a][b][ ][ ][ ]\n[ ][ ][b][a][ ][ ][ ]\n[a][ ][a][b][ ][ ][ ]\n[a][ ][b][a][ ][b][ ] \n\nCurrent player: a\n[ ][ ][ ][ ][ ][ ][ ]\n[ ][ ][b][ ][ ][ ][ ]\n[ ][ ][a][b][ ][ ][ ]\n[ ][ ][b][a][ ][ ][ ]\n[a][ ][a][b][ ][ ][ ]\n[a][ ][b][a][ ][b][ ] \n\nCurrent player: b\n[ ][ ][ ][ ][ ][ ][ ]\n[ ][ ][b][ ][ ][ ][ ]\n[ ][ ][a][b][ ][ ][ ]\n[ ][ ][b][a][ ][ ][ ]\n[a][ ][a][b][ ][ ][ ]\n[a][a][b][a][ ][b][ ] \n\nCurrent player: a\n[ ][ ][ ][ ][ ][ ][ ]\n[ ][ ][b][ ][ ][ ][ ]\n[ ][ ][a][b][ ][ ][ ]\n[ ][ ][b][a][ ][ ][ ]\n[a][ ][a][b][ ][b][ ]\n[a][a][b][a][ ][b][ ] \n\nCurrent player: b\n[ ][ ][ ][ ][ ][ ][ ]\n[ ][ ][b][a][ ][ ][ ]\n[ ][ ][a][b][ ][ ][ ]\n[ ][ ][b][a][ ][ ][ ]\n[a][ ][a][b][ ][b][ ]\n[a][a][b][a][ ][b][ ] \n\nCurrent player: a\n[ ][ ][ ][ ][ ][ ][ ]\n[ ][ ][b][a][ ][ ][ ]\n[ ][ ][a][b][ ][ ][ ]\n[ ][ ][b][a][ ][ ][ ]\n[a][ ][a][b][ ][b][ ]\n[a][a][b][a][ ][b][b] \n\nCurrent player: b\n[ ][ ][ ][ ][ ][ ][ ]\n[ ][ ][b][a][ ][ ][ ]\n[ ][ ][a][b][ ][ ][ ]\n[ ][ ][b][a][ ][ ][ ]\n[a][ ][a][b][ ][b][a]\n[a][a][b][a][ ][b][b] \n\nCurrent player: a\n[ ][ ][ ][ ][ ][ ][ ]\n[ ][ ][b][a][ ][ ][ ]\n[ ][ ][a][b][ ][ ][ ]\n[ ][ ][b][a][ ][b][ ]\n[a][ ][a][b][ ][b][a]\n[a][a][b][a][ ][b][b] \n\nCurrent player: b\n[ ][ ][ ][ ][ ][ ][ ]\n[ ][ ][b][a][ ][ ][ ]\n[ ][ ][a][b][ ][a][ ]\n[ ][ ][b][a][ ][b][ ]\n[a][ ][a][b][ ][b][a]\n[a][a][b][a][ ][b][b] \n\nCurrent player: a\n[ ][ ][ ][b][ ][ ][ ]\n[ ][ ][b][a][ ][ ][ ]\n[ ][ ][a][b][ ][a][ ]\n[ ][ ][b][a][ ][b][ ]\n[a][ ][a][b][ ][b][a]\n[a][a][b][a][ ][b][b] \n\nCurrent player: b\n[ ][ ][ ][b][ ][ ][ ]\n[ ][ ][b][a][ ][ ][ ]\n[ ][ ][a][b][ ][a][ ]\n[a][ ][b][a][ ][b][ ]\n[a][ ][a][b][ ][b][a]\n[a][a][b][a][ ][b][b] \n\nCurrent player: a\n[ ][ ][ ][b][ ][ ][ ]\n[ ][ ][b][a][ ][ ][ ]\n[b][ ][a][b][ ][a][ ]\n[a][ ][b][a][ ][b][ ]\n[a][ ][a][b][ ][b][a]\n[a][a][b][a][ ][b][b] \n\nCurrent player: b\n[ ][ ][ ][b][ ][ ][ ]\n[a][ ][b][a][ ][ ][ ]\n[b][ ][a][b][ ][a][ ]\n[a][ ][b][a][ ][b][ ]\n[a][ ][a][b][ ][b][a]\n[a][a][b][a][ ][b][b] \n\nCurrent player: a\n[ ][ ][ ][b][ ][ ][ ]\n[a][ ][b][a][ ][b][ ]\n[b][ ][a][b][ ][a][ ]\n[a][ ][b][a][ ][b][ ]\n[a][ ][a][b][ ][b][a]\n[a][a][b][a][ ][b][b] \n\nCurrent player: b\n[ ][ ][ ][b][ ][a][ ]\n[a][ ][b][a][ ][b][ ]\n[b][ ][a][b][ ][a][ ]\n[a][ ][b][a][ ][b][ ]\n[a][ ][a][b][ ][b][a]\n[a][a][b][a][ ][b][b] \n\nCurrent player: a\n[b][ ][ ][b][ ][a][ ]\n[a][ ][b][a][ ][b][ ]\n[b][ ][a][b][ ][a][ ]\n[a][ ][b][a][ ][b][ ]\n[a][ ][a][b][ ][b][a]\n[a][a][b][a][ ][b][b] \n\nCurrent player: b\n[b][ ][a][b][ ][a][ ]\n[a][ ][b][a][ ][b][ ]\n[b][ ][a][b][ ][a][ ]\n[a][ ][b][a][ ][b][ ]\n[a][ ][a][b][ ][b][a]\n[a][a][b][a][ ][b][b] \n\nCurrent player: a\n[b][ ][a][b][ ][a][ ]\n[a][ ][b][a][ ][b][ ]\n[b][ ][a][b][ ][a][ ]\n[a][ ][b][a][ ][b][ ]\n[a][ ][a][b][ ][b][a]\n[a][a][b][a][b][b][b] \n\nCurrent player: b\n[b][ ][a][b][ ][a][ ]\n[a][ ][b][a][ ][b][ ]\n[b][ ][a][b][ ][a][ ]\n[a][ ][b][a][ ][b][ ]\n[a][a][a][b][ ][b][a]\n[a][a][b][a][b][b][b] \n\nCurrent player: a\n[b][ ][a][b][ ][a][ ]\n[a][ ][b][a][ ][b][ ]\n[b][ ][a][b][ ][a][ ]\n[a][b][b][a][ ][b][ ]\n[a][a][a][b][ ][b][a]\n[a][a][b][a][b][b][b] \n\nCurrent player: b\n[b][ ][a][b][ ][a][ ]\n[a][ ][b][a][ ][b][ ]\n[b][a][a][b][ ][a][ ]\n[a][b][b][a][ ][b][ ]\n[a][a][a][b][ ][b][a]\n[a][a][b][a][b][b][b] \n\nCurrent player: a\n[b][ ][a][b][ ][a][ ]\n[a][b][b][a][ ][b][ ]\n[b][a][a][b][ ][a][ ]\n[a][b][b][a][ ][b][ ]\n[a][a][a][b][ ][b][a]\n[a][a][b][a][b][b][b] \n\nCurrent player: b\n[b][a][a][b][ ][a][ ]\n[a][b][b][a][ ][b][ ]\n[b][a][a][b][ ][a][ ]\n[a][b][b][a][ ][b][ ]\n[a][a][a][b][ ][b][a]\n[a][a][b][a][b][b][b] \n\nCurrent player: a\n[b][a][a][b][ ][a][ ]\n[a][b][b][a][ ][b][ ]\n[b][a][a][b][ ][a][ ]\n[a][b][b][a][ ][b][ ]\n[a][a][a][b][b][b][a]\n[a][a][b][a][b][b][b] \n\nCurrent player: b\n[b][a][a][b][ ][a][ ]\n[a][b][b][a][ ][b][ ]\n[b][a][a][b][ ][a][ ]\n[a][b][b][a][a][b][ ]\n[a][a][a][b][b][b][a]\n[a][a][b][a][b][b][b] \n\nCurrent player: a\n[b][a][a][b][ ][a][ ]\n[a][b][b][a][ ][b][ ]\n[b][a][a][b][b][a][ ]\n[a][b][b][a][a][b][ ]\n[a][a][a][b][b][b][a]\n[a][a][b][a][b][b][b] \n\nCurrent player: b\n[b][a][a][b][ ][a][ ]\n[a][b][b][a][a][b][ ]\n[b][a][a][b][b][a][ ]\n[a][b][b][a][a][b][ ]\n[a][a][a][b][b][b][a]\n[a][a][b][a][b][b][b] \n\nCurrent player: a\n[b][a][a][b][b][a][ ]\n[a][b][b][a][a][b][ ]\n[b][a][a][b][b][a][ ]\n[a][b][b][a][a][b][ ]\n[a][a][a][b][b][b][a]\n[a][a][b][a][b][b][b] \n\nCurrent player: b\n[b][a][a][b][b][a][ ]\n[a][b][b][a][a][b][ ]\n[b][a][a][b][b][a][ ]\n[a][b][b][a][a][b][a]\n[a][a][a][b][b][b][a]\n[a][a][b][a][b][b][b] \n\nCurrent player: a\n[b][a][a][b][b][a][ ]\n[a][b][b][a][a][b][ ]\n[b][a][a][b][b][a][b]\n[a][b][b][a][a][b][a]\n[a][a][a][b][b][b][a]\n[a][a][b][a][b][b][b] \n\nCurrent player: b\n[b][a][a][b][b][a][ ]\n[a][b][b][a][a][b][a]\n[b][a][a][b][b][a][b]\n[a][b][b][a][a][b][a]\n[a][a][a][b][b][b][a]\n[a][a][b][a][b][b][b] \n\nCurrent player: a\n[b][a][a][b][b][a][b]\n[a][b][b][a][a][b][a]\n[b][a][a][b][b][a][b]\n[a][b][b][a][a][b][a]\n[a][a][a][b][b][b][a]\n[a][a][b][a][b][b][b] \n\nDraw\n============================================================ \n\nDepth:  7\nCurrent player: b\n[ ][ ][ ][ ][ ][ ][ ]\n[ ][ ][ ][ ][ ][ ][ ]\n[ ][ ][ ][ ][ ][ ][ ]\n[ ][ ][ ][ ][ ][ ][ ]\n[ ][ ][ ][ ][ ][ ][ ]\n[ ][ ][ ][a][ ][ ][ ] \n\nCurrent player: a\n[ ][ ][ ][ ][ ][ ][ ]\n[ ][ ][ ][ ][ ][ ][ ]\n[ ][ ][ ][ ][ ][ ][ ]\n[ ][ ][ ][ ][ ][ ][ ]\n[ ][ ][ ][ ][ ][ ][ ]\n[ ][ ][b][a][ ][ ][ ] \n\nCurrent player: b\n[ ][ ][ ][ ][ ][ ][ ]\n[ ][ ][ ][ ][ ][ ][ ]\n[ ][ ][ ][ ][ ][ ][ ]\n[ ][ ][ ][ ][ ][ ][ ]\n[ ][ ][ ][a][ ][ ][ ]\n[ ][ ][b][a][ ][ ][ ] \n\nCurrent player: a\n[ ][ ][ ][ ][ ][ ][ ]\n[ ][ ][ ][ ][ ][ ][ ]\n[ ][ ][ ][ ][ ][ ][ ]\n[ ][ ][ ][b][ ][ ][ ]\n[ ][ ][ ][a][ ][ ][ ]\n[ ][ ][b][a][ ][ ][ ] \n\nCurrent player: b\n[ ][ ][ ][ ][ ][ ][ ]\n[ ][ ][ ][ ][ ][ ][ ]\n[ ][ ][ ][ ][ ][ ][ ]\n[ ][ ][ ][b][ ][ ][ ]\n[ ][ ][a][a][ ][ ][ ]\n[ ][ ][b][a][ ][ ][ ] \n\nCurrent player: a\n[ ][ ][ ][ ][ ][ ][ ]\n[ ][ ][ ][ ][ ][ ][ ]\n[ ][ ][ ][b][ ][ ][ ]\n[ ][ ][ ][b][ ][ ][ ]\n[ ][ ][a][a][ ][ ][ ]\n[ ][ ][b][a][ ][ ][ ] \n\nCurrent player: b\n[ ][ ][ ][ ][ ][ ][ ]\n[ ][ ][ ][ ][ ][ ][ ]\n[ ][ ][ ][b][ ][ ][ ]\n[ ][ ][ ][b][ ][ ][ ]\n[ ][ ][a][a][ ][ ][ ]\n[ ][ ][b][a][ ][ ][a] \n\nCurrent player: a\n[ ][ ][ ][ ][ ][ ][ ]\n[ ][ ][ ][b][ ][ ][ ]\n[ ][ ][ ][b][ ][ ][ ]\n[ ][ ][ ][b][ ][ ][ ]\n[ ][ ][a][a][ ][ ][ ]\n[ ][ ][b][a][ ][ ][a] \n\nCurrent player: b\n[ ][ ][ ][a][ ][ ][ ]\n[ ][ ][ ][b][ ][ ][ ]\n[ ][ ][ ][b][ ][ ][ ]\n[ ][ ][ ][b][ ][ ][ ]\n[ ][ ][a][a][ ][ ][ ]\n[ ][ ][b][a][ ][ ][a] \n\nCurrent player: a\n[ ][ ][ ][a][ ][ ][ ]\n[ ][ ][ ][b][ ][ ][ ]\n[ ][ ][ ][b][ ][ ][ ]\n[ ][ ][ ][b][ ][ ][ ]\n[ ][ ][a][a][ ][ ][ ]\n[ ][ ][b][a][ ][b][a] \n\nCurrent player: b\n[ ][ ][ ][a][ ][ ][ ]\n[ ][ ][ ][b][ ][ ][ ]\n[ ][ ][ ][b][ ][ ][ ]\n[ ][ ][a][b][ ][ ][ ]\n[ ][ ][a][a][ ][ ][ ]\n[ ][ ][b][a][ ][b][a] \n\nCurrent player: a\n[ ][ ][ ][a][ ][ ][ ]\n[ ][ ][ ][b][ ][ ][ ]\n[ ][ ][b][b][ ][ ][ ]\n[ ][ ][a][b][ ][ ][ ]\n[ ][ ][a][a][ ][ ][ ]\n[ ][ ][b][a][ ][b][a] \n\nCurrent player: b\n[ ][ ][ ][a][ ][ ][ ]\n[ ][ ][ ][b][ ][ ][ ]\n[ ][ ][b][b][ ][ ][ ]\n[ ][ ][a][b][ ][ ][ ]\n[ ][ ][a][a][ ][a][ ]\n[ ][ ][b][a][ ][b][a] \n\nCurrent player: a\n[ ][ ][ ][a][ ][ ][ ]\n[ ][ ][ ][b][ ][ ][ ]\n[ ][ ][b][b][ ][ ][ ]\n[ ][ ][a][b][ ][b][ ]\n[ ][ ][a][a][ ][a][ ]\n[ ][ ][b][a][ ][b][a] \n\nCurrent player: b\n[ ][ ][ ][a][ ][ ][ ]\n[ ][ ][ ][b][ ][ ][ ]\n[ ][ ][b][b][ ][a][ ]\n[ ][ ][a][b][ ][b][ ]\n[ ][ ][a][a][ ][a][ ]\n[ ][ ][b][a][ ][b][a] \n\nCurrent player: a\n[ ][ ][ ][a][ ][ ][ ]\n[ ][ ][ ][b][ ][b][ ]\n[ ][ ][b][b][ ][a][ ]\n[ ][ ][a][b][ ][b][ ]\n[ ][ ][a][a][ ][a][ ]\n[ ][ ][b][a][ ][b][a] \n\nCurrent player: b\n[ ][ ][ ][a][ ][a][ ]\n[ ][ ][ ][b][ ][b][ ]\n[ ][ ][b][b][ ][a][ ]\n[ ][ ][a][b][ ][b][ ]\n[ ][ ][a][a][ ][a][ ]\n[ ][ ][b][a][ ][b][a] \n\nCurrent player: a\n[ ][ ][ ][a][ ][a][ ]\n[ ][ ][ ][b][ ][b][ ]\n[ ][ ][b][b][ ][a][ ]\n[ ][ ][a][b][ ][b][ ]\n[ ][ ][a][a][ ][a][b]\n[ ][ ][b][a][ ][b][a] \n\nCurrent player: b\n[ ][ ][ ][a][ ][a][ ]\n[ ][ ][ ][b][ ][b][ ]\n[ ][ ][b][b][ ][a][ ]\n[ ][ ][a][b][ ][b][a]\n[ ][ ][a][a][ ][a][b]\n[ ][ ][b][a][ ][b][a] \n\nCurrent player: a\n[ ][ ][ ][a][ ][a][ ]\n[ ][ ][b][b][ ][b][ ]\n[ ][ ][b][b][ ][a][ ]\n[ ][ ][a][b][ ][b][a]\n[ ][ ][a][a][ ][a][b]\n[ ][ ][b][a][ ][b][a] \n\nCurrent player: b\n[ ][ ][a][a][ ][a][ ]\n[ ][ ][b][b][ ][b][ ]\n[ ][ ][b][b][ ][a][ ]\n[ ][ ][a][b][ ][b][a]\n[ ][ ][a][a][ ][a][b]\n[ ][ ][b][a][ ][b][a] \n\nCurrent player: a\n[ ][ ][a][a][ ][a][ ]\n[ ][ ][b][b][ ][b][ ]\n[ ][ ][b][b][ ][a][b]\n[ ][ ][a][b][ ][b][a]\n[ ][ ][a][a][ ][a][b]\n[ ][ ][b][a][ ][b][a] \n\nCurrent player: b\n[ ][ ][a][a][ ][a][ ]\n[ ][ ][b][b][ ][b][ ]\n[ ][ ][b][b][ ][a][b]\n[ ][ ][a][b][ ][b][a]\n[ ][ ][a][a][ ][a][b]\n[a][ ][b][a][ ][b][a] \n\nCurrent player: a\n[ ][ ][a][a][ ][a][ ]\n[ ][ ][b][b][ ][b][ ]\n[ ][ ][b][b][ ][a][b]\n[ ][ ][a][b][ ][b][a]\n[b][ ][a][a][ ][a][b]\n[a][ ][b][a][ ][b][a] \n\nCurrent player: b\n[ ][ ][a][a][ ][a][ ]\n[ ][ ][b][b][ ][b][a]\n[ ][ ][b][b][ ][a][b]\n[ ][ ][a][b][ ][b][a]\n[b][ ][a][a][ ][a][b]\n[a][ ][b][a][ ][b][a] \n\nCurrent player: a\n[ ][ ][a][a][ ][a][b]\n[ ][ ][b][b][ ][b][a]\n[ ][ ][b][b][ ][a][b]\n[ ][ ][a][b][ ][b][a]\n[b][ ][a][a][ ][a][b]\n[a][ ][b][a][ ][b][a] \n\nCurrent player: b\n[ ][ ][a][a][ ][a][b]\n[ ][ ][b][b][ ][b][a]\n[ ][ ][b][b][ ][a][b]\n[a][ ][a][b][ ][b][a]\n[b][ ][a][a][ ][a][b]\n[a][ ][b][a][ ][b][a] \n\nCurrent player: a\n[ ][ ][a][a][ ][a][b]\n[ ][ ][b][b][ ][b][a]\n[b][ ][b][b][ ][a][b]\n[a][ ][a][b][ ][b][a]\n[b][ ][a][a][ ][a][b]\n[a][ ][b][a][ ][b][a] \n\nCurrent player: b\n[ ][ ][a][a][ ][a][b]\n[ ][ ][b][b][ ][b][a]\n[b][ ][b][b][ ][a][b]\n[a][ ][a][b][ ][b][a]\n[b][ ][a][a][ ][a][b]\n[a][a][b][a][ ][b][a] \n\nCurrent player: a\n[ ][ ][a][a][ ][a][b]\n[ ][ ][b][b][ ][b][a]\n[b][ ][b][b][ ][a][b]\n[a][ ][a][b][ ][b][a]\n[b][b][a][a][ ][a][b]\n[a][a][b][a][ ][b][a] \n\nCurrent player: b\n[ ][ ][a][a][ ][a][b]\n[ ][ ][b][b][ ][b][a]\n[b][ ][b][b][ ][a][b]\n[a][a][a][b][ ][b][a]\n[b][b][a][a][ ][a][b]\n[a][a][b][a][ ][b][a] \n\nCurrent player: a\n[ ][ ][a][a][ ][a][b]\n[ ][ ][b][b][ ][b][a]\n[b][b][b][b][ ][a][b]\n[a][a][a][b][ ][b][a]\n[b][b][a][a][ ][a][b]\n[a][a][b][a][ ][b][a] \n\nWinner b\n============================================================ \n\n"
        }
      ],
      "execution_count": null,
      "metadata": {
        "colab": {
          "base_uri": "https://localhost:8080/"
        },
        "id": "xc5l76lvJVIQ",
        "outputId": "ca3a48ef-6e2d-43f0-a355-e3a6d8c15212"
      }
    },
    {
      "cell_type": "markdown",
      "source": [
        "Niezależnie od głębokości solvera, rozgrywki pokrywają praktycznie całą część planszy"
      ],
      "metadata": {
        "id": "wkVGhSXNMjTI"
      }
    },
    {
      "cell_type": "code",
      "source": [
        "print(\"We test the result for 20 games\\n\")\n",
        "for depth in range(1, 9):\n",
        "  winners = []\n",
        "  for i in range(20):\n",
        "    game = ConnectFour(size=(COLUMN_COUNT, ROW_COUNT), first_player=p1, second_player=p2)\n",
        "    solver = MinMaxSolver(game)\n",
        "\n",
        "    game.make_move(ConnectFourMove(randint(0, COLUMN_COUNT - 1)))\n",
        "    game.make_move(ConnectFourMove(randint(0, COLUMN_COUNT - 1)))\n",
        "\n",
        "    while not game.is_finished():\n",
        "        game.make_move(ConnectFourMove(solver.get_best_move(depth)))\n",
        "        solver.swap_players()\n",
        "    winners.append(game.get_winner())\n",
        "  print(\"Depth: \", depth)\n",
        "  print(\"Player 1 won: \", winners.count(p1))\n",
        "  print(\"Player 2 won: \", winners.count(p2))\n",
        "  print(\"Draws: \", winners.count(None), '\\n')"
      ],
      "outputs": [
        {
          "output_type": "stream",
          "name": "stdout",
          "text": "We test the result for 20 games\n\nDepth:  1\nPlayer 1 won:  8\nPlayer 2 won:  12\nDraws:  0 \n\nDepth:  2\nPlayer 1 won:  7\nPlayer 2 won:  13\nDraws:  0 \n\nDepth:  3\nPlayer 1 won:  12\nPlayer 2 won:  8\nDraws:  0 \n\nDepth:  4\nPlayer 1 won:  6\nPlayer 2 won:  10\nDraws:  4 \n\nDepth:  5\nPlayer 1 won:  11\nPlayer 2 won:  9\nDraws:  0 \n\nDepth:  6\nPlayer 1 won:  7\nPlayer 2 won:  11\nDraws:  2 \n\nDepth:  7\nPlayer 1 won:  10\nPlayer 2 won:  9\nDraws:  1 \n\nDepth:  8\nPlayer 1 won:  8\nPlayer 2 won:  7\nDraws:  5 \n\n"
        }
      ],
      "execution_count": null,
      "metadata": {
        "colab": {
          "base_uri": "https://localhost:8080/"
        },
        "id": "X1rB2VdCM9zN",
        "outputId": "c36bf65e-8ad1-4a61-e475-1a98bc5537a5"
      }
    },
    {
      "cell_type": "code",
      "source": [
        "for depth in range(1, 4):\n",
        "  winners = []\n",
        "  for i in range(50):\n",
        "    game = ConnectFour(size=(COLUMN_COUNT, ROW_COUNT), first_player=p1, second_player=p2)\n",
        "    solver = MinMaxSolver(game)\n",
        "\n",
        "    game.make_move(ConnectFourMove(randint(0, COLUMN_COUNT - 1)))\n",
        "    game.make_move(ConnectFourMove(randint(0, COLUMN_COUNT - 1)))\n",
        "\n",
        "    while not game.is_finished():\n",
        "        game.make_move(ConnectFourMove(solver.get_best_move(depth)))\n",
        "        solver.swap_players()\n",
        "    winners.append(game.get_winner())\n",
        "  print(\"Depth: \", depth)\n",
        "  print(\"Player 1 won: \", winners.count(p1))\n",
        "  print(\"Player 2 won: \", winners.count(p2))\n",
        "  print(\"Draws: \", winners.count(None), '\\n')"
      ],
      "outputs": [
        {
          "output_type": "stream",
          "name": "stdout",
          "text": "Depth:  1\nPlayer 1 won:  25\nPlayer 2 won:  25\nDraws:  0 \n\nDepth:  2\nPlayer 1 won:  22\nPlayer 2 won:  27\nDraws:  1 \n\nDepth:  3\nPlayer 1 won:  33\nPlayer 2 won:  17\nDraws:  0 \n\n"
        }
      ],
      "execution_count": null,
      "metadata": {
        "colab": {
          "base_uri": "https://localhost:8080/"
        },
        "id": "h0UvPrYSXi6x",
        "outputId": "49440bda-555b-42dd-ce4b-5be462ebcbe1"
      }
    },
    {
      "cell_type": "markdown",
      "source": [
        "Przy mniejszych wartościach głębokości przeszukiwania rozgrywki bardzo rzadko kończą się remisem. Wraz ze wzrostem głębokości wzrasta ilość remisów jako wyniki."
      ],
      "metadata": {
        "id": "sFWpYRTcXIW3"
      }
    },
    {
      "cell_type": "markdown",
      "source": [
        "Nie dostrzegam większej zależności pomiędzy głębokością przeszukiwania a tym, który z graczy zwycięży. Wyniki uzyskane są obarczone pewną niepewnością wynikającą z tego, że pierwsze dwa posunięcia wybierane są losowo. Natomiast można zauważyć, że żaden z graczy nie uzykuje znaczącej przewagi z kolejności, w której wykonuje ruchy."
      ],
      "metadata": {
        "id": "oaT1IyFpYFuZ"
      }
    }
  ],
  "metadata": {
    "colab": {
      "provenance": []
    },
    "kernelspec": {
      "display_name": "Python 3",
      "name": "python3"
    },
    "language_info": {
      "name": "python"
    },
    "nteract": {
      "version": "nteract-front-end@1.0.0"
    }
  },
  "nbformat": 4,
  "nbformat_minor": 0
}